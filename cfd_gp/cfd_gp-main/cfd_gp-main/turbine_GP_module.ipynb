{
 "cells": [
  {
   "cell_type": "code",
   "execution_count": 1,
   "id": "aaaaf444",
   "metadata": {},
   "outputs": [],
   "source": [
    "import pandas as pd\n",
    "import numpy as np\n",
    "import matplotlib.pyplot as plt\n",
    "import GPy\n",
    "from IPython.display import display\n",
    "GPy.plotting.change_plotting_library('matplotlib')\n",
    "import GP_functions1 as GP"
   ]
  },
  {
   "cell_type": "code",
   "execution_count": 2,
   "id": "3f45e9d2",
   "metadata": {},
   "outputs": [],
   "source": [
    "position=np.array([[   0.   ,  0.        ],[ 794.36576595 ,  43.85822902], [ 449.31175435,  178.73675336], [2031.48005906 ,  71.47280391]])\n",
    "tu = GP.TurbineUtility()"
   ]
  },
  {
   "cell_type": "code",
   "execution_count": 3,
   "id": "cda2c928",
   "metadata": {},
   "outputs": [
    {
     "name": "stderr",
     "output_type": "stream",
     "text": [
      " C:\\Users\\jingj\\Documents\\GitHub\\cfd_gp\\GP_functions1.py:60: FutureWarning:The default dtype for empty Series will be 'object' instead of 'float64' in a future version. Specify a dtype explicitly to silence this warning.\n"
     ]
    },
    {
     "data": {
      "application/vnd.jupyter.widget-view+json": {
       "model_id": "c3aab8c6f0594ba7ad7aabe35aa5a517",
       "version_major": 2,
       "version_minor": 0
      },
      "text/plain": [
       "HBox(children=(VBox(children=(IntProgress(value=0, max=1000), HTML(value=''))), Box(children=(HTML(value=''),)…"
      ]
     },
     "metadata": {},
     "output_type": "display_data"
    }
   ],
   "source": [
    "name = \"all_dataset.csv\"\n",
    "gp_model = GP.GP_train().train_model() # trains model on \"all_dataset.csv\"\n"
   ]
  },
  {
   "cell_type": "code",
   "execution_count": 4,
   "id": "84a7a1b3",
   "metadata": {},
   "outputs": [],
   "source": [
    "# CREATE PREDICTING CLASS from which attenuation predictions are made\n",
    "gp = GP.GP_predict(gp_model) # create predicting class\n"
   ]
  },
  {
   "cell_type": "code",
   "execution_count": 7,
   "id": "df5b1b2f",
   "metadata": {},
   "outputs": [
    {
     "name": "stdout",
     "output_type": "stream",
     "text": [
      "[[], [0], [], [0, 1, 2]]\n",
      "[[1.         0.34493215 1.04700824]\n",
      " [0.57034779 0.14494835 1.04700824]\n",
      " [1.         0.34493215 1.04700824]\n",
      " [0.52706604 0.04468339 0.0772671 ]]\n",
      "[[7.39822176]\n",
      " [6.20027228]\n",
      " [7.39822176]\n",
      " [4.99785094]] [[0.00659174]\n",
      " [0.00694498]\n",
      " [0.00659174]\n",
      " [1.24979843]] [[7.39822176]\n",
      " [6.20027228]\n",
      " [7.39822176]\n",
      " [4.99785094]]\n"
     ]
    }
   ],
   "source": [
    "#make predictions\n",
    "position=np.array([[   0.   ,  0.        ],[ 794.36576595 ,  43.85822902], [ 449.31175435,  178.73675336], [2031.48005906 ,  71.47280391]])\n",
    "tu = GP.TurbineUtility()\n",
    "neigh=tu.nlist(position,4)\n",
    "print(neigh)\n",
    "fingerprint=tu.fingerprint(position,4)\n",
    "print(fingerprint)\n",
    "[refwind,referr]=gp_model.predict(fingerprint)\n",
    "refwind2=gp.predict(position,4)\n",
    "print(refwind,referr,refwind2)"
   ]
  },
  {
   "cell_type": "code",
   "execution_count": null,
   "id": "ed298adc",
   "metadata": {},
   "outputs": [],
   "source": [
    "slices = [0.2, 0.5, 0.8, 1.0]\n",
    "figure = GPy.plotting.plotting_library().figure(4, 1)\n",
    "                            \n",
    "for i, y in zip(range(4), slices):\n",
    "    canvas = m.plot(figure=figure, fixed_inputs=[(1,y)], row=(i+1), plot_data=False)\n",
    "#GPy.plotting.show(canvas, filename='basic_gp_regression_notebook_slicing')"
   ]
  },
  {
   "cell_type": "code",
   "execution_count": null,
   "id": "f6df8249",
   "metadata": {},
   "outputs": [],
   "source": [
    "[Ypred,Yvar]=m.predict(Xtest)\n",
    "error_test=np.abs(Ypred-Ytest)\n",
    "np.max(error_test)"
   ]
  },
  {
   "cell_type": "code",
   "execution_count": null,
   "id": "841f1561",
   "metadata": {},
   "outputs": [],
   "source": [
    "[Yval,Yvalvar]=m.predict(Xtrain)\n",
    "error_train=np.abs(Yval-Ytrain)\n",
    "np.max(error_train)"
   ]
  },
  {
   "cell_type": "code",
   "execution_count": null,
   "id": "c0ca9148",
   "metadata": {},
   "outputs": [],
   "source": [
    "[Yall,Yallvar]=m.predict(X)\n",
    "error_all=np.abs(Yall-Y)\n",
    "np.max(error_all)"
   ]
  },
  {
   "cell_type": "code",
   "execution_count": null,
   "id": "16b27382",
   "metadata": {},
   "outputs": [],
   "source": [
    "#make predictions\n",
    "position=np.array([[   0.   ,  0.        ],[ 794.36576595 ,  43.85822902], [ 449.31175435,  178.73675336], [2031.48005906 ,  71.47280391]])\n",
    "neigh=gp.nlist(position,4)\n",
    "#fingerprints=np.array(gp.finfinpr.calculate(turb*4,position,neigh,symbol))\n",
    "refwind=gp.predict(position,4)\n",
    "print(neigh)\n",
    "print(refwind)\n"
   ]
  },
  {
   "cell_type": "code",
   "execution_count": null,
   "id": "2ef68de4",
   "metadata": {},
   "outputs": [],
   "source": [
    "a = plt.axes(aspect='equal')\n",
    "plt.scatter(Ytest, Ypred,c=Xtest[:,0])     #\"Fingerprint(G2)\"\n",
    "plt.scatter(Ytrain, Yval,c=Xtrain[:,0])  #\"Fingerprint(G2)\"\n",
    "plt.xlabel('True Values [Ref_wind_speed]')\n",
    "plt.ylabel('Predictions [Ref_wind_speed]')\n",
    "cbar=plt.colorbar()\n",
    "cbar.set_label('Fingerprint(G2)')\n",
    "lims = [4.5, 8]\n",
    "plt.xlim(lims)\n",
    "plt.ylim(lims)\n",
    "_ = plt.plot(lims, lims)"
   ]
  },
  {
   "cell_type": "code",
   "execution_count": null,
   "id": "39ca4c7d",
   "metadata": {},
   "outputs": [],
   "source": [
    "a = plt.axes(aspect='equal')\n",
    "plt.scatter(Ytest, Ypred,c=Xtest[:,1])     #\"Fingerprint(G4)\"\n",
    "plt.scatter(Ytrain, Yval,c=Xtrain[:,1])  #\"Fingerprint(G4)\"\n",
    "plt.xlabel('True Values [Ref_wind_speed]')\n",
    "plt.ylabel('Predictions [Ref_wind_speed]')\n",
    "cbar=plt.colorbar()\n",
    "cbar.set_label('Fingerprint(G4)')\n",
    "lims = [4.5, 8]\n",
    "plt.xlim(lims)\n",
    "plt.ylim(lims)\n",
    "_ = plt.plot(lims, lims)"
   ]
  },
  {
   "cell_type": "code",
   "execution_count": null,
   "id": "34e50388",
   "metadata": {},
   "outputs": [],
   "source": [
    "a = plt.axes(aspect='equal')\n",
    "plt.scatter(Ytest, Ypred,c=Xtest[:,2])     #\"Fingerprint(G6)\"\n",
    "plt.scatter(Ytrain, Yval,c=Xtrain[:,2])  #\"Fingerprint(G6)\"\n",
    "plt.xlabel('True Values [Ref_wind_speed]')\n",
    "plt.ylabel('Predictions [Ref_wind_speed]')\n",
    "cbar=plt.colorbar()\n",
    "cbar.set_label('Fingerprint(G6)')\n",
    "lims = [4.5, 8]\n",
    "plt.xlim(lims)\n",
    "plt.ylim(lims)\n",
    "_ = plt.plot(lims, lims)"
   ]
  },
  {
   "cell_type": "code",
   "execution_count": null,
   "id": "fe88e9bf",
   "metadata": {},
   "outputs": [],
   "source": [
    "plt.scatter(dataset_pos[:,0], dataset_pos[:,1],c=error_all)\n",
    "plt.xlabel('X-axis')\n",
    "plt.ylabel('Y-axis')\n",
    "plt.title('Error Rate Locations')\n",
    "cbar=plt.colorbar()\n",
    "cbar.set_label('Absolute Error Rate (m/s)')"
   ]
  },
  {
   "cell_type": "code",
   "execution_count": null,
   "id": "dae77bab",
   "metadata": {},
   "outputs": [],
   "source": [
    "a = plt.axes\n",
    "plt.scatter(Xtest[:,0], Xtest[:,1],c=np.abs(Ypred))\n",
    "plt.scatter(Xtrain[:,0], Xtrain[:,1],c=np.abs(Yval))\n",
    "#plt.scatter(train_labels, train_predictions)\n",
    "plt.xlabel('Fingerprint(G2)')\n",
    "plt.ylabel('Fingerprint(G4)')\n",
    "plt.title('Predicted Values')\n",
    "cbar=plt.colorbar()\n",
    "cbar.set_label('Predicted Wind Speed (m/s)')"
   ]
  },
  {
   "cell_type": "code",
   "execution_count": null,
   "id": "df203d17",
   "metadata": {},
   "outputs": [],
   "source": [
    "a = plt.axes\n",
    "plt.scatter(Xtest[:,0], Xtest[:,1],c=np.abs(Ytest))\n",
    "plt.scatter(Xtrain[:,0], Xtrain[:,1],c=np.abs(Ytrain))\n",
    "#plt.scatter(train_labels, train_predictions)\n",
    "plt.xlabel('Fingerprint(G2)')\n",
    "plt.ylabel('Fingerprint(G4)')\n",
    "plt.title('Actual CFD Values')\n",
    "cbar=plt.colorbar()\n",
    "cbar.set_label('Predicted Wind Speed (m/s)')"
   ]
  },
  {
   "cell_type": "code",
   "execution_count": null,
   "id": "c1816a43",
   "metadata": {},
   "outputs": [],
   "source": [
    "a = plt.axes\n",
    "plt.scatter(X[:,0], X[:,1],c=error_all)\n",
    "#plt.scatter(Xtrain[:,0], Xtrain[:,1],c=np.abs(Ytrain))\n",
    "#plt.scatter(train_labels, train_predictions)\n",
    "plt.xlabel('Fingerprint(G2)')\n",
    "plt.ylabel('Fingerprint(G4)')\n",
    "plt.title('Error Rate (m/s)')\n",
    "cbar=plt.colorbar()\n",
    "cbar.set_label('Absolute Error Rate (m/s)')"
   ]
  },
  {
   "cell_type": "code",
   "execution_count": null,
   "id": "bbdf90ea",
   "metadata": {},
   "outputs": [],
   "source": [
    "plt.hist(error_all, bins=10)\n",
    "plt.xlabel('Prediction Error [Ref_wind_speed]')\n",
    "plt.title('error_all')\n",
    "_ = plt.ylabel('Count')"
   ]
  },
  {
   "cell_type": "code",
   "execution_count": null,
   "id": "b58caf04",
   "metadata": {},
   "outputs": [],
   "source": [
    "plt.hist(error_test, bins=10)\n",
    "plt.xlabel('Prediction Error [Ref_wind_speed]')\n",
    "plt.title('error_test')\n",
    "_ = plt.ylabel('Count')"
   ]
  },
  {
   "cell_type": "code",
   "execution_count": null,
   "id": "9d4928f4",
   "metadata": {},
   "outputs": [],
   "source": [
    "import numpy\n",
    "from mayavi.mlab import *\n",
    "\n",
    "def test_points3d():\n",
    "\n",
    "\n",
    "    x = X[:,0] #Fingerprint(G2)\n",
    "    y = X[:,1] #Fingerprint(G4)\n",
    "    z = X[:,2] #Fingerprint(G6)\n",
    "    s = error_all.flatten()\n",
    "    colorbar(orientation='vertical')\n",
    "    xlabel('Fingerprint(G2)')\n",
    "    ylabel('Fingerprint(G4)')\n",
    "    zlabel('Fingerprint(G6)')\n",
    "    return points3d(x, y, z, s, colormap=\"blue-red\", scale_factor=0.1)\n",
    "test_points3d()\n",
    "#colorbar(object=all_labels, title=\"Points in Mayavi\")\n",
    "#view()\n",
    "show()"
   ]
  },
  {
   "cell_type": "code",
   "execution_count": null,
   "id": "45610df4",
   "metadata": {},
   "outputs": [],
   "source": []
  }
 ],
 "metadata": {
  "kernelspec": {
   "display_name": "Python 3 (ipykernel)",
   "language": "python",
   "name": "python3"
  },
  "language_info": {
   "codemirror_mode": {
    "name": "ipython",
    "version": 3
   },
   "file_extension": ".py",
   "mimetype": "text/x-python",
   "name": "python",
   "nbconvert_exporter": "python",
   "pygments_lexer": "ipython3",
   "version": "3.9.12"
  }
 },
 "nbformat": 4,
 "nbformat_minor": 5
}
