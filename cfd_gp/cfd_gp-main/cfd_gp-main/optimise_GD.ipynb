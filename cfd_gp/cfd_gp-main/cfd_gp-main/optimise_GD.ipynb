{
 "cells": [
  {
   "cell_type": "code",
   "execution_count": 1,
   "metadata": {},
   "outputs": [
    {
     "ename": "ModuleNotFoundError",
     "evalue": "No module named 'cfd_simulate'",
     "output_type": "error",
     "traceback": [
      "\u001b[1;31m---------------------------------------------------------------------------\u001b[0m",
      "\u001b[1;31mModuleNotFoundError\u001b[0m                       Traceback (most recent call last)",
      "Cell \u001b[1;32mIn[1], line 2\u001b[0m\n\u001b[0;32m      1\u001b[0m \u001b[38;5;28;01mimport\u001b[39;00m \u001b[38;5;21;01mnumpy\u001b[39;00m \u001b[38;5;28;01mas\u001b[39;00m \u001b[38;5;21;01mnp\u001b[39;00m\n\u001b[1;32m----> 2\u001b[0m \u001b[38;5;28;01mfrom\u001b[39;00m \u001b[38;5;21;01mcfd_simulate\u001b[39;00m \u001b[38;5;28;01mimport\u001b[39;00m simulate\n\u001b[0;32m      3\u001b[0m \u001b[38;5;28;01mfrom\u001b[39;00m \u001b[38;5;21;01mthree_desc_model\u001b[39;00m \u001b[38;5;28;01mimport\u001b[39;00m FingerprintCalculator, NeighborlistCalculator\n",
      "\u001b[1;31mModuleNotFoundError\u001b[0m: No module named 'cfd_simulate'"
     ]
    }
   ],
   "source": [
    "import numpy as np\n",
    "from cfd_simulate import simulate\n",
    "from three_desc_model import FingerprintCalculator, NeighborlistCalculator\n",
    "\n",
    "\n",
    "\n"
   ]
  },
  {
   "cell_type": "code",
   "execution_count": null,
   "metadata": {},
   "outputs": [],
   "source": [
    "\n",
    "# Function to simulate and get energy output\n",
    "def run_cfd_simulation(positions):\n",
    "    result = simulate(positions, sim_number=0)\n",
    "    # Assume result contains energy output or modify based on actual simulation output\n",
    "    return result['energy_output']\n",
    "\n",
    "# Function to calculate interference using FingerprintCalculator\n",
    "def calculate_interference(positions):\n",
    "    neighbor_calculator = NeighborlistCalculator(cutoff=279.0, cone_grad=0.3, cone_offset=100.0)\n",
    "    neighbors = neighbor_calculator.calculate(turbinelist=range(len(positions)), turbineposition=positions)\n",
    "    fingerprint_calculator = FingerprintCalculator(cutoff=279.0, Gs={'turbine': [{'type': 'G2', 'eta': 0.1}]}, Rct=100.0, delta_R=0.1, cone_grad=0.3, cone_offset=100.0)\n",
    "    fingerprints = fingerprint_calculator.calculate(turbinelist=range(len(positions)), turbineposition=positions, neighborlist=neighbors, symbol='turbine')\n",
    "    interference = sum([np.mean(fp) for fp in fingerprints])\n",
    "    return interference\n",
    "\n",
    "# Objective function combining energy output and interference penalty\n",
    "def objective_function(positions, lambda_):\n",
    "    energy_output = run_cfd_simulation(positions)\n",
    "    interference_penalty = calculate_interference(positions)\n",
    "    return energy_output - lambda_ * interference_penalty\n",
    "\n",
    "# Gradient calculation (numerical approximation)\n",
    "def compute_gradients(positions, lambda_):\n",
    "    epsilon = 1e-5\n",
    "    gradients = np.zeros_like(positions)\n",
    "    for i in range(len(positions)):\n",
    "        for j in range(2):  # x and y coordinates\n",
    "            positions[i, j] += epsilon\n",
    "            f_plus = objective_function(positions, lambda_)\n",
    "            positions[i, j] -= 2 * epsilon\n",
    "            f_minus = objective_function(positions, lambda_)\n",
    "            gradients[i, j] = (f_plus - f_minus) / (2 * epsilon)\n",
    "            positions[i, j] += epsilon\n",
    "    return gradients\n",
    "\n",
    "# Gradient Descent Algorithm\n",
    "def gradient_descent(initial_positions, learning_rate, lambda_, num_iterations):\n",
    "    positions = initial_positions\n",
    "    for i in range(num_iterations):\n",
    "        gradients = compute_gradients(positions, lambda_)\n",
    "        positions = positions - learning_rate * gradients\n",
    "        positions = np.clip(positions, 0, [4000, 4000])  # Adjust according to the actual farm size\n",
    "        if np.linalg.norm(gradients) < 1e-6:  # Convergence criteria\n",
    "            break\n",
    "        print(f\"Iteration {i+1}, Objective Function Value: {objective_function(positions, lambda_)}\")\n",
    "    return positions\n",
    "\n",
    "# Example initial positions\n",
    "def generate_random_positions(num_turbines, farm_width, farm_height):\n",
    "    return np.random.rand(num_turbines, 2) * [farm_width, farm_height]"
   ]
  },
  {
   "cell_type": "code",
   "execution_count": null,
   "metadata": {},
   "outputs": [],
   "source": [
    "# Parameters\n",
    "initial_positions = generate_random_positions(num_turbines=5, farm_width=4000, farm_height=4000)\n",
    "learning_rate = 0.01\n",
    "lambda_ = 0.5\n",
    "num_iterations = 100\n",
    "\n",
    "# Run gradient descent\n",
    "optimized_positions = gradient_descent(initial_positions, learning_rate, lambda_, num_iterations)\n",
    "print(\"Optimized Positions:\", optimized_positions)"
   ]
  }
 ],
 "metadata": {
  "kernelspec": {
   "display_name": "Python 3",
   "language": "python",
   "name": "python3"
  },
  "language_info": {
   "codemirror_mode": {
    "name": "ipython",
    "version": 3
   },
   "file_extension": ".py",
   "mimetype": "text/x-python",
   "name": "python",
   "nbconvert_exporter": "python",
   "pygments_lexer": "ipython3",
   "version": "3.9.13"
  }
 },
 "nbformat": 4,
 "nbformat_minor": 2
}
