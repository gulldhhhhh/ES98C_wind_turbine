{
 "cells": [
  {
   "cell_type": "code",
   "execution_count": null,
   "metadata": {},
   "outputs": [],
   "source": [
    "import pandas as pd\n",
    "import numpy as np\n",
    "import os\n",
    "import matplotlib.pyplot as plt\n",
    "import GPy\n",
    "from IPython.display import display\n",
    "GPy.plotting.change_plotting_library('matplotlib')\n",
    "import GP_functions1 as GP"
   ]
  },
  {
   "cell_type": "code",
   "execution_count": null,
   "metadata": {},
   "outputs": [],
   "source": [
    "sim_number = \"0005\"\n",
    "simulation_directory=\"simulation/\"+sim_number\n",
    "coordinate_file=simulation_directory+\"/xy_turbine.txt\"\n",
    "#os.chdir(simulation_directory)\n"
   ]
  },
  {
   "cell_type": "code",
   "execution_count": null,
   "metadata": {},
   "outputs": [],
   "source": [
    "#Read coordinate file\n",
    "positions=pd.DataFrame()\n",
    "pos=pd.read_csv(coordinate_file, sep=' ',header=None)\n",
    "print(pos)"
   ]
  },
  {
   "cell_type": "code",
   "execution_count": null,
   "metadata": {},
   "outputs": [],
   "source": [
    "#Read zCFD output\n",
    "\n",
    "numturb = 4 \n",
    "cfd_data=np.zeros(numturb)\n",
    "for filename in os.listdir(simulation_directory):\n",
    "    if filename.endswith('.csv'):  # Only consider CSV files\n",
    "        df=pd.read_csv(filename, sep=' ')\n",
    "        df=df.tail(1) # Last line is the final result\n",
    "        for i in range(0,numturb):\n",
    "            uref='T00%d_uref' %(i)\n",
    "            cfd_data[i]=df[uref].iloc[-1]\n",
    "        print(cfd_data)"
   ]
  },
  {
   "cell_type": "code",
   "execution_count": null,
   "metadata": {},
   "outputs": [],
   "source": [
    "# create dataframe\n",
    "windspeed = 10.0\n",
    "simname=sim_number+\"_\"+str(windspeed)+\"_\"+str(numturb)\n",
    "dataset=pd.DataFrame()\n",
    "for i in range(numturb):\n",
    "    turb_data=pd.DataFrame(\n",
    "        [[pos[1].iloc[i]+2000,pos[2].iloc[i],cfd_data[i],numturb, simname,i]], \n",
    "        columns=[\"X_coord\", \"Y_coord\", \"Ref_wind\", \"Num_tot_turb\", \"ID\",\"Turb_num\"])\n",
    "#        [[pos[1].iloc[i]+2000,pos[2].iloc[i],cfd_data[i],windspeed,i,numturb, simname]], \n",
    "#        columns=[\"x_coord\", \"y_coord\", \"ref_wind_speed\",\"wind_speed\" , \"turb_num\",\"num_tot_turb\", \"ID\"])\n",
    "    dataset = pd.concat([dataset, turb_data])\n",
    "     "
   ]
  },
  {
   "cell_type": "code",
   "execution_count": null,
   "metadata": {},
   "outputs": [],
   "source": [
    "dataset"
   ]
  },
  {
   "cell_type": "code",
   "execution_count": null,
   "metadata": {},
   "outputs": [],
   "source": [
    "turbine_csv=pd.read_csv(\"all_dataset.csv\",index_col=False)\n",
    "turbine_csv=turbine_csv.drop(turbine_csv.columns[[0]],axis=1)\n",
    "turbine_csv = pd.concat([turbine_csv,dataset])\n",
    "turbine_csv = turbine_csv.reset_index(drop=True)"
   ]
  },
  {
   "cell_type": "code",
   "execution_count": null,
   "metadata": {},
   "outputs": [],
   "source": [
    "print(turbine_csv)"
   ]
  },
  {
   "cell_type": "code",
   "execution_count": null,
   "metadata": {},
   "outputs": [],
   "source": [
    "turbine_csv.to_csv('all_dataset_new.csv',index=True)"
   ]
  },
  {
   "cell_type": "code",
   "execution_count": null,
   "metadata": {},
   "outputs": [],
   "source": []
  }
 ],
 "metadata": {
  "kernelspec": {
   "display_name": "Python 3 (ipykernel)",
   "language": "python",
   "name": "python3"
  },
  "language_info": {
   "codemirror_mode": {
    "name": "ipython",
    "version": 3
   },
   "file_extension": ".py",
   "mimetype": "text/x-python",
   "name": "python",
   "nbconvert_exporter": "python",
   "pygments_lexer": "ipython3",
   "version": "3.7.4"
  }
 },
 "nbformat": 4,
 "nbformat_minor": 2
}
