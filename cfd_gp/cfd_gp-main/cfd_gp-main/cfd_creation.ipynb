{
 "cells": [
  {
   "cell_type": "code",
   "execution_count": 3,
   "id": "7a7d844e",
   "metadata": {},
   "outputs": [
    {
     "name": "stdout",
     "output_type": "stream",
     "text": [
      "Collecting scikit-learn\n",
      "  Downloading scikit_learn-1.5.0-cp39-cp39-win_amd64.whl (11.0 MB)\n",
      "     ---------------------------------------- 11.0/11.0 MB 6.4 MB/s eta 0:00:00\n",
      "Requirement already satisfied: numpy>=1.19.5 in c:\\users\\user\\appdata\\local\\programs\\python\\python39\\lib\\site-packages (from scikit-learn) (1.26.4)\n",
      "Requirement already satisfied: scipy>=1.6.0 in c:\\users\\user\\appdata\\local\\programs\\python\\python39\\lib\\site-packages (from scikit-learn) (1.11.4)\n",
      "Collecting joblib>=1.2.0\n",
      "  Downloading joblib-1.4.2-py3-none-any.whl (301 kB)\n",
      "     -------------------------------------- 301.8/301.8 KB 9.4 MB/s eta 0:00:00\n",
      "Collecting threadpoolctl>=3.1.0\n",
      "  Downloading threadpoolctl-3.5.0-py3-none-any.whl (18 kB)\n",
      "Installing collected packages: threadpoolctl, joblib, scikit-learn\n",
      "Successfully installed joblib-1.4.2 scikit-learn-1.5.0 threadpoolctl-3.5.0\n",
      "Note: you may need to restart the kernel to use updated packages.\n"
     ]
    },
    {
     "name": "stderr",
     "output_type": "stream",
     "text": [
      "WARNING: You are using pip version 22.0.4; however, version 24.0 is available.\n",
      "You should consider upgrading via the 'c:\\Users\\User\\AppData\\Local\\Programs\\Python\\Python39\\python.exe -m pip install --upgrade pip' command.\n"
     ]
    }
   ],
   "source": [
    "%pip install scikit-learn"
   ]
  },
  {
   "cell_type": "code",
   "execution_count": 4,
   "id": "b6b9a3e9",
   "metadata": {},
   "outputs": [],
   "source": [
    "# Load modules\n",
    "import cfd_simulate\n",
    "import os\n",
    "import pandas as pd\n",
    "import numpy as np\n",
    "import matplotlib.pyplot as plt\n",
    "import three_desc_model as exponential_new\n",
    "from itertools import combinations\n",
    "from cutoffs import Polynomial\n",
    "import GP_functions1 as GP\n",
    "from GP_functions1 import TurbineUtility\n",
    "from sklearn.gaussian_process import GaussianProcessRegressor\n",
    "from sklearn.gaussian_process.kernels import RBF, ConstantKernel as C"
   ]
  },
  {
   "cell_type": "code",
   "execution_count": 5,
   "id": "38948492",
   "metadata": {},
   "outputs": [],
   "source": [
    "# Constants\n",
    "min_dist = 279.0\n",
    "max_xdist = 4000\n",
    "max_width = 500\n",
    "numturb = 4"
   ]
  },
  {
   "cell_type": "code",
   "execution_count": 6,
   "id": "51f63ae0",
   "metadata": {},
   "outputs": [],
   "source": [
    "#Set up neighbourlist calculation\n",
    "# USE NEW CLASSES\n",
    "turbine_utility = TurbineUtility()\n",
    "nl = turbine_utility.nl\n",
    "nl=exponential_new.NeighborlistCalculator(cutoff=4001,cone_grad=0.12582561117875557, cone_offset=72.24947126849844)\n",
    "symbol=\"Siemens\"\n",
    "turb = [symbol]"
   ]
  },
  {
   "cell_type": "code",
   "execution_count": 10,
   "id": "1854d51e",
   "metadata": {},
   "outputs": [
    {
     "name": "stdout",
     "output_type": "stream",
     "text": [
      "[[   0.            0.        ]\n",
      " [1463.12262219 -160.79511941]\n",
      " [1856.11510783  -70.97731181]\n",
      " [ 683.81398342  135.18880293]]\n",
      "[[], [0], [0, 1, 3], [0]]\n"
     ]
    }
   ],
   "source": [
    "while True:\n",
    "    # Generate random coordinates\n",
    "    turbines = np.zeros([numturb,2])\n",
    "    for i in range(1,numturb):\n",
    "        # X coordinate from triangular distribution (mode 0)\n",
    "        turbines[i,0]=np.random.triangular(0,0,max_xdist)\n",
    "        # y coordinate from triangular distribution (mode 0)\n",
    "        turbines[i,1]=np.random.triangular(-max_width,0,max_width)\n",
    "    print(turbines)\n",
    "    neigh=nl.calculate(turb*numturb,turbines) # And here\n",
    "    print(neigh)\n",
    "    # Check neighbours\n",
    "    for i in range(numturb):\n",
    "        if (len(neigh[i])==numturb-1):\n",
    "            # if one of them has maximal number of neigbours: break loop\n",
    "            break\n",
    "    else:\n",
    "        # If none of them has maximal number of neighbours: Try again\n",
    "        print(\"Not enough neighbours\")\n",
    "        continue\n",
    "    # Check distances\n",
    "    for i, j in combinations(range(numturb), 2):\n",
    "        if (np.linalg.norm(turbines[i]-turbines[j])<min_dist):\n",
    "            # Two turbines are too close\n",
    "            print(\"Distance between turbine \",i+1,\" and turbine \",j+1,\" is too low.\")\n",
    "            break\n",
    "    else:\n",
    "        # None of the turbines are too close: SUCCESS!\n",
    "        break\n",
    "    continue\n"
   ]
  },
  {
   "cell_type": "code",
   "execution_count": 11,
   "id": "ed25b06b",
   "metadata": {},
   "outputs": [
    {
     "data": {
      "image/png": "[encoded data removed]",
      "text/plain": [
       "<Figure size 640x480 with 1 Axes>"
      ]
     },
     "metadata": {},
     "output_type": "display_data"
    }
   ],
   "source": [
    "# turbines = np.array(...)\n",
    "numturb = turbines.shape[0]\n",
    "\n",
    "# Rainbow colormap with as many colors as turbines\n",
    "cmap = plt.get_cmap('rainbow', numturb)\n",
    "\n",
    "# Plot turbines\n",
    "for i in range(numturb):\n",
    "    plt.scatter(turbines[i,0], turbines[i,1], color=cmap(i), label='Turbine ' + str(i))\n",
    "\n",
    "# Set the desired limits for the x and yaxes\n",
    "plt.xlim(-300, 4500)\n",
    "plt.ylim(-500, 500)\n",
    "plt.axis('equal')\n",
    "\n",
    "# Add labels to each point\n",
    "for i in range(numturb):\n",
    "    plt.text(turbines[i, 0], turbines[i, 1], str(i))\n",
    "\n",
    "# Add legends\n",
    "plt.legend(bbox_to_anchor=(1.05, 1), loc='upper left')\n",
    "\n",
    "plt.show()\n",
    "\n",
    "\n"
   ]
  },
  {
   "cell_type": "code",
   "execution_count": 12,
   "id": "5c77b358",
   "metadata": {},
   "outputs": [
    {
     "name": "stdout",
     "output_type": "stream",
     "text": [
      "1\n"
     ]
    },
    {
     "data": {
      "text/plain": [
       "0"
      ]
     },
     "execution_count": 12,
     "metadata": {},
     "output_type": "execute_result"
    }
   ],
   "source": [
    "turbine_coords = np.array(turbines)\n",
    "sim_number = 2\n",
    "cfd_simulate.simulate(turbine_coords, sim_number)"
   ]
  },
  {
   "cell_type": "code",
   "execution_count": null,
   "id": "ac65a0c4",
   "metadata": {},
   "outputs": [],
   "source": []
  }
 ],
 "metadata": {
  "kernelspec": {
   "display_name": "Python 3 (ipykernel)",
   "language": "python",
   "name": "python3"
  },
  "language_info": {
   "codemirror_mode": {
    "name": "ipython",
    "version": 3
   },
   "file_extension": ".py",
   "mimetype": "text/x-python",
   "name": "python",
   "nbconvert_exporter": "python",
   "pygments_lexer": "ipython3",
   "version": "3.9.13"
  }
 },
 "nbformat": 4,
 "nbformat_minor": 5
}
